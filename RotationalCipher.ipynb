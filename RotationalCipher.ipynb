{
 "cells": [
  {
   "cell_type": "markdown",
   "metadata": {},
   "source": [
    "# Rotational Cipher \n",
    "\n",
    "\n",
    "- Rotate each alphanumeric character by N --> This means that A + rotation_factor (3) = A + 3 places = D. Range (Z-A)\n",
    "- Numbers are also rotated by the same value from from 9-0\n"
   ]
  },
  {
   "cell_type": "code",
   "execution_count": 537,
   "metadata": {},
   "outputs": [],
   "source": [
    "import string\n",
    "# Cipher the text\n",
    "def cipher_text(text, rotation_factor):\n",
    "    s = \"\"\n",
    "    for x in text:\n",
    "        if x.isupper():\n",
    "            ch = cipher_alpha(x,rotation_factor,'upper')\n",
    "        elif x.islower():\n",
    "            ch = cipher_alpha(x,rotation_factor,'lower')\n",
    "        elif x.isnumeric():\n",
    "            ch = normalize_number(int(x), rotation_factor)\n",
    "        else:\n",
    "            ch = x\n",
    "        s += str(ch)\n",
    "    return s\n",
    "\n",
    "# cipher the characters  \n",
    "def cipher_alpha(text, rot, case = 'lower' ):\n",
    "    \"\"\"\n",
    "    \n",
    "    \"\"\"\n",
    "    # ASCII code\n",
    "    code = ord(text)\n",
    "    # ASCII code + Rotation\n",
    "    rotated = code + rot\n",
    "    # Normalize\n",
    "    if case == 'lower':\n",
    "        normed = ((rotated - ord('a')) % 26) + ord('a')\n",
    "    else:\n",
    "        normed = ((rotated - ord('A')) % 26) + ord('A')\n",
    "    # ciphered \n",
    "    cipher = chr(normed)\n",
    "    return cipher\n",
    "\n",
    "#  normalize rotation\n",
    "def normalize_number(number, rotation_factor):\n",
    "    return (number + rotation_factor) % 10"
   ]
  },
  {
   "cell_type": "code",
   "execution_count": 691,
   "metadata": {},
   "outputs": [
    {
     "name": "stdout",
     "output_type": "stream",
     "text": [
      "Zebra-493?\n",
      "Cheud-726?\n",
      "Cheud-726?\n",
      "Same-Same? True\n",
      "\n",
      "abcdefghijklmNOPQRSTUVWXYZ0123456789\n",
      "nopqrstuvwxyzABCDEFGHIJKLM9012345678\n",
      "nopqrstuvwxyzABCDEFGHIJKLM9012345678\n",
      "Same-Same? True\n",
      "\n"
     ]
    }
   ],
   "source": [
    "\n",
    "# example 1 \n",
    "text1 = 'Zebra-493?'\n",
    "rot1 = 3\n",
    "out1 = 'Cheud-726?'\n",
    "# example 2\n",
    "text2 = 'abcdefghijklmNOPQRSTUVWXYZ0123456789'\n",
    "rot2 = 39\n",
    "out2 = 'nopqrstuvwxyzABCDEFGHIJKLM9012345678'\n",
    "\n",
    "## TEST 2: \n",
    "text = 'abcdefghijklmNOPQRSTUVWXYZ0123456789'\n",
    "rot2 = 39\n",
    "output = 'nopqrstuvwxyzABCDEFGHIJKLM9012345678'\n",
    "\n",
    "\n",
    "def test(text, rot, out):\n",
    "    # show original \n",
    "    print(text)\n",
    "    # show ciphered\n",
    "    pred = cipher_text(text, rot)\n",
    "    print(pred)\n",
    "    # show the correct output \n",
    "    print(out)\n",
    "    print(f\"Same-Same? {out == pred }\\n\")\n",
    "\n",
    "# test 1\n",
    "test(text1, rot1, out1) \n",
    "# test 2\n",
    "test(text2, rot2, out2)"
   ]
  },
  {
   "cell_type": "code",
   "execution_count": 663,
   "metadata": {},
   "outputs": [],
   "source": [
    "\n",
    "def caesar_cipher(text, rotation_factor, alphabets):\n",
    "    \"\"\"\n",
    "    \n",
    "    \n",
    "    \"\"\"\n",
    "    if rotation_factor > 25: \n",
    "        rotation_factor = (rotation_factor % 26)\n",
    "    else:\n",
    "        rotation_factor = rotation_factor\n",
    "    ## shift the alphabet \n",
    "    def make_shift(alphabet):\n",
    "        return alphabet[rotation_factor:] + alphabet[:rotation_factor]\n",
    "    \n",
    "    ## apply the shift \n",
    "    shifted_alphabet = tuple(map(make_shift, alphabets))\n",
    "\n",
    "    ## we need to join them \n",
    "    joined_shifted = \"\".join(shifted_alphabet)\n",
    "\n",
    "    ## take care of the original ones \n",
    "    joined_original = \"\".join(alphabets)\n",
    "\n",
    "    ## we create a table \n",
    "    orig_shift = str.maketrans(joined_original, joined_shifted)\n",
    "\n",
    "    ## we can tanslate \n",
    "    res = text.translate(orig_shift)\n",
    "    \n",
    "    return res"
   ]
  }
 ],
 "metadata": {
  "interpreter": {
   "hash": "ac6858c3dbc49267e902ff986705b591b9d7b57befff84fd7d814fe16c4a8e1f"
  },
  "kernelspec": {
   "display_name": "Python 3.8.5 ('ci_covid')",
   "language": "python",
   "name": "python3"
  },
  "language_info": {
   "codemirror_mode": {
    "name": "ipython",
    "version": 3
   },
   "file_extension": ".py",
   "mimetype": "text/x-python",
   "name": "python",
   "nbconvert_exporter": "python",
   "pygments_lexer": "ipython3",
   "version": "3.8.5"
  },
  "orig_nbformat": 4
 },
 "nbformat": 4,
 "nbformat_minor": 2
}
