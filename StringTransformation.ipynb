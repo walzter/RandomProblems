{
 "cells": [
  {
   "cell_type": "markdown",
   "metadata": {},
   "source": [
    "# String Transformations "
   ]
  },
  {
   "cell_type": "code",
   "execution_count": 94,
   "metadata": {},
   "outputs": [],
   "source": [
    "# test 1\n",
    "str1 = \"Bling GlibN\"\n",
    "## B l i n g -> G l i b N\n",
    "## B -> b -> 3L\n",
    "## l -> l -> 1O\n",
    "## i -> i -> 2O\n",
    "## n -> N -> 4U\n",
    "## g -> G -> 0U\n",
    "## Answer: 3L-1O-2O-4U-0U\n",
    "\n",
    "# test 2\n",
    "str2 = \"Python OpyNtH\""
   ]
  },
  {
   "cell_type": "code",
   "execution_count": 99,
   "metadata": {},
   "outputs": [],
   "source": [
    "def find_transformation(in_n_out:str) -> str:\n",
    "    \"\"\"Find the transformation given two words separated by space\"\"\"\n",
    "    ## split the words\n",
    "    word_in, word_out = in_n_out.split(\" \")\n",
    "    ## empty string for result \n",
    "    res = \"\"\n",
    "    for idx,char in enumerate(word_in):\n",
    "    ## if the current char is upper is it in b?\n",
    "        if (char.isupper() and (char in word_out)):\n",
    "            ## same index?\n",
    "            if idx == word_out.find(char):\n",
    "                res += f\"{word_out.find(char)}O \"\n",
    "            else:\n",
    "                res += f\"{word_out.find(char)}U \"\n",
    "        ## if the current char is lower and in b?\n",
    "        elif (char.islower() and (char in word_out)):\n",
    "            ## same index?\n",
    "            if idx == word_out.find(char):\n",
    "                res += f\"{word_out.find(char)}O \"\n",
    "            else:\n",
    "                res += f\"{word_out.find(char)}L \"\n",
    "        elif char.lower() in word_out:\n",
    "            res += f\"{word_out.find(char.lower())}L \"\n",
    "        elif char.upper() in word_out:\n",
    "            res += f\"{word_out.find(char.upper())}U \"\n",
    "    return res"
   ]
  },
  {
   "cell_type": "code",
   "execution_count": null,
   "metadata": {},
   "outputs": [],
   "source": [
    "print(find_transformation(str1))\n",
    "print(find_transformation(str2))"
   ]
  }
 ],
 "metadata": {
  "interpreter": {
   "hash": "ac6858c3dbc49267e902ff986705b591b9d7b57befff84fd7d814fe16c4a8e1f"
  },
  "kernelspec": {
   "display_name": "Python 3.8.5 ('ci_covid')",
   "language": "python",
   "name": "python3"
  },
  "language_info": {
   "codemirror_mode": {
    "name": "ipython",
    "version": 3
   },
   "file_extension": ".py",
   "mimetype": "text/x-python",
   "name": "python",
   "nbconvert_exporter": "python",
   "pygments_lexer": "ipython3",
   "version": "3.8.5"
  },
  "orig_nbformat": 4
 },
 "nbformat": 4,
 "nbformat_minor": 2
}
